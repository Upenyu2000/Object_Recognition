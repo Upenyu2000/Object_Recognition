{
 "cells": [
  {
   "cell_type": "markdown",
   "id": "b048e02f7397011",
   "metadata": {
    "pycharm": {
     "name": "#%% md\n"
    }
   },
   "source": [
    "Importing Libraries"
   ]
  },
  {
   "cell_type": "code",
   "execution_count": 10,
   "id": "82d479c138e1f8dc",
   "metadata": {
    "pycharm": {
     "name": "#%%\n"
    },
    "ExecuteTime": {
     "end_time": "2024-04-08T21:52:37.420041Z",
     "start_time": "2024-04-08T21:52:18.556565Z"
    }
   },
   "outputs": [
    {
     "name": "stdout",
     "output_type": "stream",
     "text": [
      "WARNING:tensorflow:From C:\\Users\\upshl\\PycharmProjects\\HumanSkeletonAnalysis\\venv\\Lib\\site-packages\\keras\\src\\losses.py:2976: The name tf.losses.sparse_softmax_cross_entropy is deprecated. Please use tf.compat.v1.losses.sparse_softmax_cross_entropy instead.\n"
     ]
    }
   ],
   "source": [
    "import zipfile\n",
    "import seaborn as sns\n",
    "import numpy as np\n",
    "import pandas as pd\n",
    "import matplotlib.pyplot as plt\n",
    "from keras.models import Sequential\n",
    "from sklearn.metrics import confusion_matrix, accuracy_score\n",
    "from keras.layers import Conv2D, MaxPooling2D, Flatten, Dense,Dropout,BatchNormalization"
   ]
  },
  {
   "cell_type": "markdown",
   "id": "e058a1d3b28cd3c0",
   "metadata": {
    "pycharm": {
     "name": "#%% md\n"
    }
   },
   "source": [
    "Importing and loading Dataset "
   ]
  },
  {
   "cell_type": "code",
   "execution_count": 2,
   "id": "initial_id",
   "metadata": {
    "pycharm": {
     "name": "#%%\n"
    },
    "ExecuteTime": {
     "end_time": "2024-04-08T20:43:47.048844Z",
     "start_time": "2024-04-08T20:43:45.517519Z"
    }
   },
   "outputs": [],
   "source": [
    "fine_labels = pd.read_csv(\"fine_labels.csv\")\n",
    "train_Image = np.load('trnImage.npy')\n",
    "test_Image = np.load('tstImage.npy')\n",
    "train_Label = np.load('trnLabel_fine.npy')\n",
    "test_Label = np.load('tstLabel_fine.npy')\n",
    "\n",
    "train_Image=train_Image.transpose((3,0,1,2))\n",
    "test_Image=test_Image.transpose((3,0,1,2))"
   ]
  },
  {
   "cell_type": "markdown",
   "id": "c88ca6c6b998aedc",
   "metadata": {
    "pycharm": {
     "name": "#%% md\n"
    }
   },
   "source": [
    "Preprocess and reshaping data"
   ]
  },
  {
   "cell_type": "code",
   "execution_count": 3,
   "id": "a993c2501a62d8d0",
   "metadata": {
    "pycharm": {
     "name": "#%%\n"
    },
    "ExecuteTime": {
     "end_time": "2024-04-08T20:43:47.060174Z",
     "start_time": "2024-04-08T20:43:47.050347Z"
    }
   },
   "outputs": [
    {
     "name": "stdout",
     "output_type": "stream",
     "text": [
      "Train Image: (50000, 32, 32, 3)\n",
      "Train Label: (50000,)\n",
      "Test Image: (10000, 32, 32, 3)\n",
      "Test Label: (10000,)\n"
     ]
    }
   ],
   "source": [
    "print(\"Train Image:\",train_Image.shape)\n",
    "print(\"Train Label:\",train_Label.shape)\n",
    "\n",
    "print(\"Test Image:\",test_Image.shape)\n",
    "print(\"Test Label:\",test_Label.shape)"
   ]
  },
  {
   "cell_type": "markdown",
   "id": "1815970a712e1ac",
   "metadata": {
    "pycharm": {
     "name": "#%% md\n"
    }
   },
   "source": [
    "Building CNN"
   ]
  },
  {
   "cell_type": "code",
   "execution_count": 16,
   "id": "a71866906bdf8192",
   "metadata": {
    "pycharm": {
     "name": "#%%\n"
    },
    "ExecuteTime": {
     "end_time": "2024-04-08T21:25:14.182466Z",
     "start_time": "2024-04-08T20:53:18.972808Z"
    }
   },
   "outputs": [
    {
     "name": "stdout",
     "output_type": "stream",
     "text": [
      "Epoch 1/100\n",
      "97/97 [==============================] - 27s 244ms/step - loss: 4.5665 - accuracy: 0.0142 - val_loss: 4.4697 - val_accuracy: 0.0242\n",
      "Epoch 2/100\n",
      "97/97 [==============================] - 19s 198ms/step - loss: 4.3437 - accuracy: 0.0294 - val_loss: 4.2883 - val_accuracy: 0.0577\n",
      "Epoch 3/100\n",
      "97/97 [==============================] - 18s 187ms/step - loss: 4.1495 - accuracy: 0.0585 - val_loss: 4.1281 - val_accuracy: 0.0727\n",
      "Epoch 4/100\n",
      "97/97 [==============================] - 18s 185ms/step - loss: 3.9524 - accuracy: 0.0864 - val_loss: 3.9279 - val_accuracy: 0.1149\n",
      "Epoch 5/100\n",
      "97/97 [==============================] - 18s 188ms/step - loss: 3.8174 - accuracy: 0.1074 - val_loss: 3.7643 - val_accuracy: 0.1394\n",
      "Epoch 6/100\n",
      "97/97 [==============================] - 18s 181ms/step - loss: 3.7226 - accuracy: 0.1235 - val_loss: 3.6682 - val_accuracy: 0.1498\n",
      "Epoch 7/100\n",
      "97/97 [==============================] - 18s 188ms/step - loss: 3.6583 - accuracy: 0.1336 - val_loss: 3.6130 - val_accuracy: 0.1666\n",
      "Epoch 8/100\n",
      "97/97 [==============================] - 18s 181ms/step - loss: 3.5945 - accuracy: 0.1456 - val_loss: 3.6075 - val_accuracy: 0.1673\n",
      "Epoch 9/100\n",
      "97/97 [==============================] - 17s 176ms/step - loss: 3.5385 - accuracy: 0.1554 - val_loss: 3.5659 - val_accuracy: 0.1694\n",
      "Epoch 10/100\n",
      "97/97 [==============================] - 17s 177ms/step - loss: 3.4888 - accuracy: 0.1666 - val_loss: 3.4249 - val_accuracy: 0.2043\n",
      "Epoch 11/100\n",
      "97/97 [==============================] - 17s 178ms/step - loss: 3.4480 - accuracy: 0.1748 - val_loss: 3.3769 - val_accuracy: 0.2064\n",
      "Epoch 12/100\n",
      "97/97 [==============================] - 18s 182ms/step - loss: 3.3932 - accuracy: 0.1831 - val_loss: 3.3359 - val_accuracy: 0.2136\n",
      "Epoch 13/100\n",
      "97/97 [==============================] - 18s 189ms/step - loss: 3.3691 - accuracy: 0.1871 - val_loss: 3.2967 - val_accuracy: 0.2239\n",
      "Epoch 14/100\n",
      "97/97 [==============================] - 19s 199ms/step - loss: 3.3312 - accuracy: 0.1931 - val_loss: 3.2255 - val_accuracy: 0.2374\n",
      "Epoch 15/100\n",
      "97/97 [==============================] - 18s 188ms/step - loss: 3.3050 - accuracy: 0.1974 - val_loss: 3.2333 - val_accuracy: 0.2348\n",
      "Epoch 16/100\n",
      "97/97 [==============================] - 18s 181ms/step - loss: 3.2787 - accuracy: 0.2044 - val_loss: 3.1946 - val_accuracy: 0.2398\n",
      "Epoch 17/100\n",
      "97/97 [==============================] - 17s 179ms/step - loss: 3.2584 - accuracy: 0.2066 - val_loss: 3.1559 - val_accuracy: 0.2493\n",
      "Epoch 18/100\n",
      "97/97 [==============================] - 17s 178ms/step - loss: 3.2409 - accuracy: 0.2121 - val_loss: 3.1881 - val_accuracy: 0.2374\n",
      "Epoch 19/100\n",
      "97/97 [==============================] - 18s 180ms/step - loss: 3.2135 - accuracy: 0.2152 - val_loss: 3.1746 - val_accuracy: 0.2404\n",
      "Epoch 20/100\n",
      "97/97 [==============================] - 17s 176ms/step - loss: 3.1984 - accuracy: 0.2179 - val_loss: 3.1739 - val_accuracy: 0.2390\n",
      "Epoch 21/100\n",
      "97/97 [==============================] - 18s 180ms/step - loss: 3.1713 - accuracy: 0.2230 - val_loss: 3.0873 - val_accuracy: 0.2531\n",
      "Epoch 22/100\n",
      "97/97 [==============================] - 18s 182ms/step - loss: 3.1575 - accuracy: 0.2244 - val_loss: 3.0739 - val_accuracy: 0.2548\n",
      "Epoch 23/100\n",
      "97/97 [==============================] - 20s 204ms/step - loss: 3.1411 - accuracy: 0.2288 - val_loss: 3.0179 - val_accuracy: 0.2728\n",
      "Epoch 24/100\n",
      "97/97 [==============================] - 18s 180ms/step - loss: 3.1218 - accuracy: 0.2314 - val_loss: 3.0481 - val_accuracy: 0.2566\n",
      "Epoch 25/100\n",
      "97/97 [==============================] - 17s 174ms/step - loss: 3.1167 - accuracy: 0.2322 - val_loss: 3.0096 - val_accuracy: 0.2678\n",
      "Epoch 26/100\n",
      "97/97 [==============================] - 17s 173ms/step - loss: 3.0844 - accuracy: 0.2374 - val_loss: 2.9917 - val_accuracy: 0.2708\n",
      "Epoch 27/100\n",
      "97/97 [==============================] - 17s 172ms/step - loss: 3.0759 - accuracy: 0.2401 - val_loss: 3.0142 - val_accuracy: 0.2663\n",
      "Epoch 28/100\n",
      "97/97 [==============================] - 17s 169ms/step - loss: 3.0671 - accuracy: 0.2397 - val_loss: 2.9890 - val_accuracy: 0.2689\n",
      "Epoch 29/100\n",
      "97/97 [==============================] - 16s 168ms/step - loss: 3.0527 - accuracy: 0.2455 - val_loss: 2.9906 - val_accuracy: 0.2655\n",
      "Epoch 30/100\n",
      "97/97 [==============================] - 17s 170ms/step - loss: 3.0473 - accuracy: 0.2438 - val_loss: 2.9849 - val_accuracy: 0.2660\n",
      "Epoch 31/100\n",
      "97/97 [==============================] - 18s 185ms/step - loss: 3.0257 - accuracy: 0.2508 - val_loss: 2.8931 - val_accuracy: 0.2877\n",
      "Epoch 32/100\n",
      "97/97 [==============================] - 16s 169ms/step - loss: 3.0221 - accuracy: 0.2508 - val_loss: 2.9554 - val_accuracy: 0.2740\n",
      "Epoch 33/100\n",
      "97/97 [==============================] - 16s 166ms/step - loss: 3.0194 - accuracy: 0.2518 - val_loss: 2.8891 - val_accuracy: 0.2858\n",
      "Epoch 34/100\n",
      "97/97 [==============================] - 19s 193ms/step - loss: 3.0031 - accuracy: 0.2553 - val_loss: 2.8882 - val_accuracy: 0.2832\n",
      "Epoch 35/100\n",
      "97/97 [==============================] - 19s 192ms/step - loss: 2.9945 - accuracy: 0.2557 - val_loss: 2.9094 - val_accuracy: 0.2817\n",
      "Epoch 36/100\n",
      "97/97 [==============================] - 18s 180ms/step - loss: 2.9824 - accuracy: 0.2571 - val_loss: 2.8387 - val_accuracy: 0.2973\n",
      "Epoch 37/100\n",
      "97/97 [==============================] - 17s 176ms/step - loss: 2.9811 - accuracy: 0.2587 - val_loss: 2.8451 - val_accuracy: 0.2928\n",
      "Epoch 38/100\n",
      "97/97 [==============================] - 18s 181ms/step - loss: 2.9637 - accuracy: 0.2612 - val_loss: 2.8176 - val_accuracy: 0.2980\n",
      "Epoch 39/100\n",
      "97/97 [==============================] - 17s 178ms/step - loss: 2.9603 - accuracy: 0.2626 - val_loss: 2.7683 - val_accuracy: 0.3156\n",
      "Epoch 40/100\n",
      "97/97 [==============================] - 18s 181ms/step - loss: 2.9593 - accuracy: 0.2625 - val_loss: 2.8028 - val_accuracy: 0.3032\n",
      "Epoch 41/100\n",
      "97/97 [==============================] - 17s 169ms/step - loss: 2.9506 - accuracy: 0.2625 - val_loss: 2.8214 - val_accuracy: 0.2973\n",
      "Epoch 42/100\n",
      "97/97 [==============================] - 16s 163ms/step - loss: 2.9412 - accuracy: 0.2660 - val_loss: 2.7898 - val_accuracy: 0.3044\n",
      "Epoch 43/100\n",
      "97/97 [==============================] - 16s 163ms/step - loss: 2.9269 - accuracy: 0.2675 - val_loss: 2.7758 - val_accuracy: 0.3068\n",
      "Epoch 44/100\n",
      "97/97 [==============================] - 18s 187ms/step - loss: 2.9210 - accuracy: 0.2693 - val_loss: 2.8004 - val_accuracy: 0.3006\n",
      "Epoch 45/100\n",
      "97/97 [==============================] - 17s 175ms/step - loss: 2.9187 - accuracy: 0.2703 - val_loss: 2.8019 - val_accuracy: 0.3004\n",
      "Epoch 46/100\n",
      "97/97 [==============================] - 16s 163ms/step - loss: 2.9197 - accuracy: 0.2707 - val_loss: 2.8014 - val_accuracy: 0.3031\n",
      "Epoch 47/100\n",
      "97/97 [==============================] - 16s 162ms/step - loss: 2.9147 - accuracy: 0.2685 - val_loss: 2.7014 - val_accuracy: 0.3250\n",
      "Epoch 48/100\n",
      "97/97 [==============================] - 16s 161ms/step - loss: 2.8984 - accuracy: 0.2752 - val_loss: 2.7468 - val_accuracy: 0.3147\n",
      "Epoch 49/100\n",
      "97/97 [==============================] - 17s 175ms/step - loss: 2.8998 - accuracy: 0.2742 - val_loss: 2.6878 - val_accuracy: 0.3290\n",
      "Epoch 50/100\n",
      "97/97 [==============================] - 18s 181ms/step - loss: 2.8959 - accuracy: 0.2712 - val_loss: 2.7618 - val_accuracy: 0.3075\n",
      "Epoch 51/100\n",
      "97/97 [==============================] - 18s 180ms/step - loss: 2.8937 - accuracy: 0.2752 - val_loss: 2.7247 - val_accuracy: 0.3231\n",
      "Epoch 52/100\n",
      "97/97 [==============================] - 17s 175ms/step - loss: 2.8891 - accuracy: 0.2745 - val_loss: 2.7448 - val_accuracy: 0.3120\n",
      "Epoch 53/100\n",
      "97/97 [==============================] - 17s 178ms/step - loss: 2.8886 - accuracy: 0.2757 - val_loss: 2.7459 - val_accuracy: 0.3109\n",
      "Epoch 54/100\n",
      "97/97 [==============================] - 20s 209ms/step - loss: 2.8781 - accuracy: 0.2752 - val_loss: 2.7060 - val_accuracy: 0.3193\n",
      "Epoch 55/100\n",
      "97/97 [==============================] - 17s 179ms/step - loss: 2.8673 - accuracy: 0.2795 - val_loss: 2.6873 - val_accuracy: 0.3263\n",
      "Epoch 56/100\n",
      "97/97 [==============================] - 18s 184ms/step - loss: 2.8601 - accuracy: 0.2813 - val_loss: 2.7580 - val_accuracy: 0.3051\n",
      "Epoch 57/100\n",
      "97/97 [==============================] - 19s 199ms/step - loss: 2.8602 - accuracy: 0.2805 - val_loss: 2.7792 - val_accuracy: 0.3034\n",
      "Epoch 58/100\n",
      "97/97 [==============================] - 19s 196ms/step - loss: 2.8517 - accuracy: 0.2828 - val_loss: 2.7193 - val_accuracy: 0.3196\n",
      "Epoch 59/100\n",
      "97/97 [==============================] - 18s 188ms/step - loss: 2.8540 - accuracy: 0.2832 - val_loss: 2.6874 - val_accuracy: 0.3220\n",
      "Epoch 60/100\n",
      "97/97 [==============================] - 22s 222ms/step - loss: 2.8530 - accuracy: 0.2825 - val_loss: 2.7365 - val_accuracy: 0.3162\n",
      "Epoch 61/100\n",
      "97/97 [==============================] - 25s 261ms/step - loss: 2.8418 - accuracy: 0.2845 - val_loss: 2.6618 - val_accuracy: 0.3301\n",
      "Epoch 62/100\n",
      "97/97 [==============================] - 32s 324ms/step - loss: 2.8466 - accuracy: 0.2837 - val_loss: 2.6450 - val_accuracy: 0.3321\n",
      "Epoch 63/100\n",
      "97/97 [==============================] - 20s 202ms/step - loss: 2.8480 - accuracy: 0.2853 - val_loss: 2.7330 - val_accuracy: 0.3090\n",
      "Epoch 64/100\n",
      "97/97 [==============================] - 19s 198ms/step - loss: 2.8420 - accuracy: 0.2838 - val_loss: 2.6792 - val_accuracy: 0.3245\n",
      "Epoch 65/100\n",
      "97/97 [==============================] - 18s 186ms/step - loss: 2.8342 - accuracy: 0.2852 - val_loss: 2.6548 - val_accuracy: 0.3251\n",
      "Epoch 66/100\n",
      "97/97 [==============================] - 18s 188ms/step - loss: 2.8271 - accuracy: 0.2863 - val_loss: 2.6719 - val_accuracy: 0.3235\n",
      "Epoch 67/100\n",
      "97/97 [==============================] - 18s 184ms/step - loss: 2.8290 - accuracy: 0.2867 - val_loss: 2.7252 - val_accuracy: 0.3130\n",
      "Epoch 68/100\n",
      "97/97 [==============================] - 17s 178ms/step - loss: 2.8240 - accuracy: 0.2883 - val_loss: 2.6621 - val_accuracy: 0.3290\n",
      "Epoch 69/100\n",
      "97/97 [==============================] - 17s 178ms/step - loss: 2.8171 - accuracy: 0.2882 - val_loss: 2.6422 - val_accuracy: 0.3358\n",
      "Epoch 70/100\n",
      "97/97 [==============================] - 17s 177ms/step - loss: 2.8041 - accuracy: 0.2913 - val_loss: 2.6420 - val_accuracy: 0.3362\n",
      "Epoch 71/100\n",
      "97/97 [==============================] - 18s 181ms/step - loss: 2.8059 - accuracy: 0.2895 - val_loss: 2.6975 - val_accuracy: 0.3225\n",
      "Epoch 72/100\n",
      "97/97 [==============================] - 18s 184ms/step - loss: 2.8100 - accuracy: 0.2900 - val_loss: 2.6980 - val_accuracy: 0.3243\n",
      "Epoch 73/100\n",
      "97/97 [==============================] - 17s 176ms/step - loss: 2.8006 - accuracy: 0.2919 - val_loss: 2.6654 - val_accuracy: 0.3240\n",
      "Epoch 74/100\n",
      "97/97 [==============================] - 18s 187ms/step - loss: 2.8056 - accuracy: 0.2886 - val_loss: 2.7165 - val_accuracy: 0.3231\n",
      "Epoch 75/100\n",
      "97/97 [==============================] - 17s 178ms/step - loss: 2.8018 - accuracy: 0.2910 - val_loss: 2.6702 - val_accuracy: 0.3247\n",
      "Epoch 76/100\n",
      "97/97 [==============================] - 17s 175ms/step - loss: 2.8103 - accuracy: 0.2906 - val_loss: 2.6040 - val_accuracy: 0.3401\n",
      "Epoch 77/100\n",
      "97/97 [==============================] - 21s 216ms/step - loss: 2.7957 - accuracy: 0.2936 - val_loss: 2.6257 - val_accuracy: 0.3361\n",
      "Epoch 78/100\n",
      "97/97 [==============================] - 19s 196ms/step - loss: 2.8059 - accuracy: 0.2935 - val_loss: 2.6723 - val_accuracy: 0.3257\n",
      "Epoch 79/100\n",
      "97/97 [==============================] - 18s 183ms/step - loss: 2.7891 - accuracy: 0.2943 - val_loss: 2.5968 - val_accuracy: 0.3416\n",
      "Epoch 80/100\n",
      "97/97 [==============================] - 19s 193ms/step - loss: 2.7823 - accuracy: 0.2960 - val_loss: 2.6132 - val_accuracy: 0.3378\n",
      "Epoch 81/100\n",
      "97/97 [==============================] - 19s 190ms/step - loss: 2.7936 - accuracy: 0.2913 - val_loss: 2.6741 - val_accuracy: 0.3250\n",
      "Epoch 82/100\n",
      "97/97 [==============================] - 19s 192ms/step - loss: 2.7870 - accuracy: 0.2950 - val_loss: 2.6363 - val_accuracy: 0.3293\n",
      "Epoch 83/100\n",
      "97/97 [==============================] - 18s 182ms/step - loss: 2.7764 - accuracy: 0.2987 - val_loss: 2.6751 - val_accuracy: 0.3230\n",
      "Epoch 84/100\n",
      "97/97 [==============================] - 19s 199ms/step - loss: 2.7802 - accuracy: 0.2984 - val_loss: 2.5698 - val_accuracy: 0.3487\n",
      "Epoch 85/100\n",
      "97/97 [==============================] - 21s 220ms/step - loss: 2.7828 - accuracy: 0.2941 - val_loss: 2.6347 - val_accuracy: 0.3356\n",
      "Epoch 86/100\n",
      "97/97 [==============================] - 21s 214ms/step - loss: 2.7724 - accuracy: 0.2944 - val_loss: 2.5555 - val_accuracy: 0.3490\n",
      "Epoch 87/100\n",
      "97/97 [==============================] - 18s 185ms/step - loss: 2.7682 - accuracy: 0.2977 - val_loss: 2.5647 - val_accuracy: 0.3462\n",
      "Epoch 88/100\n",
      "97/97 [==============================] - 18s 185ms/step - loss: 2.7731 - accuracy: 0.2955 - val_loss: 2.5856 - val_accuracy: 0.3410\n",
      "Epoch 89/100\n",
      "97/97 [==============================] - 18s 182ms/step - loss: 2.7781 - accuracy: 0.2998 - val_loss: 2.6436 - val_accuracy: 0.3278\n",
      "Epoch 90/100\n",
      "97/97 [==============================] - 20s 200ms/step - loss: 2.7656 - accuracy: 0.3002 - val_loss: 2.5863 - val_accuracy: 0.3470\n",
      "Epoch 91/100\n",
      "97/97 [==============================] - 18s 183ms/step - loss: 2.7650 - accuracy: 0.2963 - val_loss: 2.5755 - val_accuracy: 0.3488\n",
      "Epoch 92/100\n",
      "97/97 [==============================] - 20s 201ms/step - loss: 2.7607 - accuracy: 0.2994 - val_loss: 2.6164 - val_accuracy: 0.3366\n",
      "Epoch 93/100\n",
      "97/97 [==============================] - 33s 337ms/step - loss: 2.7635 - accuracy: 0.3007 - val_loss: 2.5438 - val_accuracy: 0.3535\n",
      "Epoch 94/100\n",
      "97/97 [==============================] - 41s 423ms/step - loss: 2.7463 - accuracy: 0.3027 - val_loss: 2.5665 - val_accuracy: 0.3442\n",
      "Epoch 95/100\n",
      "97/97 [==============================] - 30s 309ms/step - loss: 2.7654 - accuracy: 0.2967 - val_loss: 2.6336 - val_accuracy: 0.3284\n",
      "Epoch 96/100\n",
      "97/97 [==============================] - 26s 268ms/step - loss: 2.7600 - accuracy: 0.2989 - val_loss: 2.6108 - val_accuracy: 0.3353\n",
      "Epoch 97/100\n",
      "97/97 [==============================] - 24s 249ms/step - loss: 2.7618 - accuracy: 0.2975 - val_loss: 2.6075 - val_accuracy: 0.3402\n",
      "Epoch 98/100\n",
      "97/97 [==============================] - 21s 216ms/step - loss: 2.7458 - accuracy: 0.3027 - val_loss: 2.5420 - val_accuracy: 0.3488\n",
      "Epoch 99/100\n",
      "97/97 [==============================] - 19s 190ms/step - loss: 2.7538 - accuracy: 0.3004 - val_loss: 2.5731 - val_accuracy: 0.3438\n",
      "Epoch 100/100\n",
      "97/97 [==============================] - 21s 215ms/step - loss: 2.7474 - accuracy: 0.3032 - val_loss: 2.6120 - val_accuracy: 0.3331\n"
     ]
    },
    {
     "data": {
      "text/plain": "<keras.src.callbacks.History at 0x1d734d89ed0>"
     },
     "execution_count": 16,
     "metadata": {},
     "output_type": "execute_result"
    }
   ],
   "source": [
    "model = Sequential()\n",
    "model.add(Conv2D(32, (3, 3), activation='relu', input_shape=(32, 32, 3)))\n",
    "model.add(MaxPooling2D((2, 2)))\n",
    "model.add(Dropout(0.5))\n",
    "model.add(Conv2D(64, (3, 3), activation='relu'))\n",
    "model.add(MaxPooling2D((2, 2)))\n",
    "model.add(Dropout(0.5))\n",
    "model.add(Conv2D(128, (3, 3), activation='relu'))\n",
    "model.add(MaxPooling2D((2, 2)))\n",
    "model.add(Dropout(0.5))\n",
    "model.add(Dense(128, activation='relu'))\n",
    "model.add(Dropout(0.5))\n",
    "model.add(Flatten())\n",
    "\n",
    "model.add(Dense(100, activation='softmax'))\n",
    "\n",
    "model.compile(optimizer='adam', loss='sparse_categorical_crossentropy', metrics=['accuracy'])\n",
    "model.fit(train_Image, train_Label, batch_size=512,steps_per_epoch=len(train_Image) / 512,validation_data=(test_Image, test_Label),epochs=100,verbose=1)"
   ]
  },
  {
   "cell_type": "markdown",
   "id": "33fffc17e0480152",
   "metadata": {
    "pycharm": {
     "name": "#%% md\n"
    }
   },
   "source": [
    "Evaluating Model"
   ]
  },
  {
   "cell_type": "code",
   "execution_count": 17,
   "id": "ffdbbfee0f6a9f3a",
   "metadata": {
    "pycharm": {
     "name": "#%%\n"
    },
    "ExecuteTime": {
     "end_time": "2024-04-08T21:26:04.113341Z",
     "start_time": "2024-04-08T21:25:58.998794Z"
    }
   },
   "outputs": [
    {
     "name": "stdout",
     "output_type": "stream",
     "text": [
      "313/313 [==============================] - 3s 7ms/step\n"
     ]
    }
   ],
   "source": [
    "predictions = model.predict(test_Image)\n",
    "predicted_labels = np.argmax(predictions, axis=1)\n",
    "true_labels = test_Label"
   ]
  },
  {
   "cell_type": "markdown",
   "id": "46624626f4849b73",
   "metadata": {
    "pycharm": {
     "name": "#%% md\n"
    }
   },
   "source": [
    "Confusion Matrix"
   ]
  },
  {
   "cell_type": "code",
   "execution_count": 18,
   "id": "d43c551e4bf54574",
   "metadata": {
    "pycharm": {
     "name": "#%%\n"
    },
    "ExecuteTime": {
     "end_time": "2024-04-08T21:26:04.157500Z",
     "start_time": "2024-04-08T21:26:04.116897Z"
    }
   },
   "outputs": [
    {
     "name": "stdout",
     "output_type": "stream",
     "text": [
      "Confusion Matrix:\n",
      " [[69  3  0 ...  0  0  0]\n",
      " [ 0 46  0 ...  1  0  0]\n",
      " [ 1  0 27 ...  2  0  0]\n",
      " ...\n",
      " [ 0  0  0 ... 29  0  0]\n",
      " [ 0  1  8 ...  1  9  1]\n",
      " [ 0  1  1 ...  0  0 17]]\n"
     ]
    }
   ],
   "source": [
    "# Confusion Matrix\n",
    "conf_matrix = confusion_matrix(true_labels, predicted_labels)\n",
    "print(\"Confusion Matrix:\\n\", conf_matrix)"
   ]
  },
  {
   "cell_type": "markdown",
   "id": "f835c8982f5a7fd5",
   "metadata": {
    "pycharm": {
     "name": "#%% md\n"
    }
   },
   "source": [
    "Data accuracy"
   ]
  },
  {
   "cell_type": "markdown",
   "id": "e5c32ea57544febb",
   "metadata": {
    "pycharm": {
     "name": "#%% md\n"
    }
   },
   "source": []
  },
  {
   "cell_type": "code",
   "execution_count": 19,
   "id": "a608469758939b28",
   "metadata": {
    "pycharm": {
     "name": "#%%\n"
    },
    "ExecuteTime": {
     "end_time": "2024-04-08T21:26:04.370957Z",
     "start_time": "2024-04-08T21:26:04.342240Z"
    }
   },
   "outputs": [
    {
     "name": "stdout",
     "output_type": "stream",
     "text": [
      "Accuracy: 33.31 %\n"
     ]
    }
   ],
   "source": [
    "accuracy = accuracy_score(test_Label, predicted_labels)\n",
    "print(\"Accuracy:\", accuracy*100,\"%\")"
   ]
  }
 ],
 "metadata": {
  "kernelspec": {
   "display_name": "Python 3 (ipykernel)",
   "language": "python",
   "name": "python3"
  },
  "language_info": {
   "codemirror_mode": {
    "name": "ipython",
    "version": 3
   },
   "file_extension": ".py",
   "mimetype": "text/x-python",
   "name": "python",
   "nbconvert_exporter": "python",
   "pygments_lexer": "ipython3",
   "version": "3.11.5"
  }
 },
 "nbformat": 4,
 "nbformat_minor": 5
}
